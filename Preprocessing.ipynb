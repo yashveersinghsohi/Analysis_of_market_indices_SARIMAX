{
 "cells": [
  {
   "cell_type": "markdown",
   "metadata": {},
   "source": [
    "# Importing Required Packages"
   ]
  },
  {
   "cell_type": "code",
   "execution_count": 1,
   "metadata": {},
   "outputs": [],
   "source": [
    "import pandas as pd\n",
    "import numpy as np\n",
    "import yfinance"
   ]
  },
  {
   "cell_type": "markdown",
   "metadata": {},
   "source": [
    "# Reading the Dataset\n",
    "- The dataset is stored in a dataframe with the name **data**.\n",
    "- The data-type of **date** column of the dataset is coverted from **str** to **datetime**.\n",
    "- The **date** column is then set as the index."
   ]
  },
  {
   "cell_type": "code",
   "execution_count": 2,
   "metadata": {},
   "outputs": [
    {
     "name": "stdout",
     "output_type": "stream",
     "text": [
      "[*********************100%***********************]  4 of 4 completed\n"
     ]
    }
   ],
   "source": [
    "raw_data = yfinance.download (tickers = \"^GSPC ^FTSE ^N225 ^GDAXI\", start = \"1994-01-07\", \n",
    "                              end = \"2019-09-01\", interval = \"1d\", group_by = 'ticker', auto_adjust = True, treads = True)"
   ]
  },
  {
   "cell_type": "code",
   "execution_count": 3,
   "metadata": {},
   "outputs": [],
   "source": [
    "df_comp = raw_data.copy()\n",
    "\n",
    "df_comp['spx'] = df_comp['^GSPC'].Close[:]\n",
    "df_comp['dax'] = df_comp['^GDAXI'].Close[:]\n",
    "df_comp['ftse'] = df_comp['^FTSE'].Close[:]\n",
    "df_comp['nikkei'] = df_comp['^N225'].Close[:]\n",
    "\n",
    "data = df_comp[['spx', 'dax', 'ftse', 'nikkei']]"
   ]
  },
  {
   "cell_type": "markdown",
   "metadata": {},
   "source": [
    "The summary statistics for the numeric columns of the dataset are given below."
   ]
  },
  {
   "cell_type": "code",
   "execution_count": 4,
   "metadata": {},
   "outputs": [
    {
     "data": {
      "text/html": [
       "<div>\n",
       "<style scoped>\n",
       "    .dataframe tbody tr th:only-of-type {\n",
       "        vertical-align: middle;\n",
       "    }\n",
       "\n",
       "    .dataframe tbody tr th {\n",
       "        vertical-align: top;\n",
       "    }\n",
       "\n",
       "    .dataframe thead tr th {\n",
       "        text-align: left;\n",
       "    }\n",
       "</style>\n",
       "<table border=\"1\" class=\"dataframe\">\n",
       "  <thead>\n",
       "    <tr>\n",
       "      <th></th>\n",
       "      <th>spx</th>\n",
       "      <th>dax</th>\n",
       "      <th>ftse</th>\n",
       "      <th>nikkei</th>\n",
       "    </tr>\n",
       "    <tr>\n",
       "      <th></th>\n",
       "      <th></th>\n",
       "      <th></th>\n",
       "      <th></th>\n",
       "      <th></th>\n",
       "    </tr>\n",
       "  </thead>\n",
       "  <tbody>\n",
       "    <tr>\n",
       "      <th>count</th>\n",
       "      <td>6459.000000</td>\n",
       "      <td>6495.000000</td>\n",
       "      <td>6481.000000</td>\n",
       "      <td>6299.000000</td>\n",
       "    </tr>\n",
       "    <tr>\n",
       "      <th>mean</th>\n",
       "      <td>1380.614234</td>\n",
       "      <td>6447.864569</td>\n",
       "      <td>5531.558153</td>\n",
       "      <td>15051.368582</td>\n",
       "    </tr>\n",
       "    <tr>\n",
       "      <th>std</th>\n",
       "      <td>595.236124</td>\n",
       "      <td>3024.998142</td>\n",
       "      <td>1204.719455</td>\n",
       "      <td>4287.417278</td>\n",
       "    </tr>\n",
       "    <tr>\n",
       "      <th>min</th>\n",
       "      <td>438.920013</td>\n",
       "      <td>1911.699951</td>\n",
       "      <td>2876.600098</td>\n",
       "      <td>7054.979980</td>\n",
       "    </tr>\n",
       "    <tr>\n",
       "      <th>25%</th>\n",
       "      <td>1023.675018</td>\n",
       "      <td>4181.094971</td>\n",
       "      <td>4569.500000</td>\n",
       "      <td>10889.379883</td>\n",
       "    </tr>\n",
       "    <tr>\n",
       "      <th>50%</th>\n",
       "      <td>1263.819946</td>\n",
       "      <td>5938.879883</td>\n",
       "      <td>5757.399902</td>\n",
       "      <td>15474.500000</td>\n",
       "    </tr>\n",
       "    <tr>\n",
       "      <th>75%</th>\n",
       "      <td>1562.484985</td>\n",
       "      <td>7986.520020</td>\n",
       "      <td>6433.299805</td>\n",
       "      <td>18506.739258</td>\n",
       "    </tr>\n",
       "    <tr>\n",
       "      <th>max</th>\n",
       "      <td>3025.860107</td>\n",
       "      <td>13559.599609</td>\n",
       "      <td>7877.500000</td>\n",
       "      <td>24270.619141</td>\n",
       "    </tr>\n",
       "  </tbody>\n",
       "</table>\n",
       "</div>"
      ],
      "text/plain": [
       "               spx           dax         ftse        nikkei\n",
       "                                                           \n",
       "count  6459.000000   6495.000000  6481.000000   6299.000000\n",
       "mean   1380.614234   6447.864569  5531.558153  15051.368582\n",
       "std     595.236124   3024.998142  1204.719455   4287.417278\n",
       "min     438.920013   1911.699951  2876.600098   7054.979980\n",
       "25%    1023.675018   4181.094971  4569.500000  10889.379883\n",
       "50%    1263.819946   5938.879883  5757.399902  15474.500000\n",
       "75%    1562.484985   7986.520020  6433.299805  18506.739258\n",
       "max    3025.860107  13559.599609  7877.500000  24270.619141"
      ]
     },
     "execution_count": 4,
     "metadata": {},
     "output_type": "execute_result"
    }
   ],
   "source": [
    "data.describe()"
   ]
  },
  {
   "cell_type": "markdown",
   "metadata": {},
   "source": [
    "# Converting the data to time-series format.\n",
    "Since the interval between periods in a time-series data must be equal, we set the frequency as **b** (Business Days). On adding this, we get a few more tuples in the dataset with missing values for each of the indices. "
   ]
  },
  {
   "cell_type": "code",
   "execution_count": 5,
   "metadata": {},
   "outputs": [
    {
     "data": {
      "text/plain": [
       "spx         233\n",
       "dax         197\n",
       "ftse        211\n",
       "nikkei      393\n",
       "dtype: int64"
      ]
     },
     "execution_count": 5,
     "metadata": {},
     "output_type": "execute_result"
    }
   ],
   "source": [
    "data = data.asfreq('b')\n",
    "data.isna().sum()"
   ]
  },
  {
   "cell_type": "markdown",
   "metadata": {},
   "source": [
    "# Filling the missing values\n",
    "The missing values for each column is filled using the **ffill** (front-fill) method of the **fillna** function. With this function, the missing value is filled with the next available value."
   ]
  },
  {
   "cell_type": "code",
   "execution_count": 6,
   "metadata": {},
   "outputs": [
    {
     "data": {
      "text/plain": [
       "spx         0\n",
       "dax         0\n",
       "ftse        0\n",
       "nikkei      1\n",
       "dtype: int64"
      ]
     },
     "execution_count": 6,
     "metadata": {},
     "output_type": "execute_result"
    }
   ],
   "source": [
    "data.spx = data.spx.fillna(method='ffill')\n",
    "data.dax = data.dax.fillna(method='ffill')\n",
    "data.ftse = data.ftse.fillna(method='ffill')\n",
    "data.nikkei = data.nikkei.fillna(method='ffill')\n",
    "\n",
    "data.isna().sum()"
   ]
  },
  {
   "cell_type": "code",
   "execution_count": 7,
   "metadata": {},
   "outputs": [
    {
     "data": {
      "text/plain": [
       "spx         0\n",
       "dax         0\n",
       "ftse        0\n",
       "nikkei      0\n",
       "dtype: int64"
      ]
     },
     "execution_count": 7,
     "metadata": {},
     "output_type": "execute_result"
    }
   ],
   "source": [
    "data.nikkei = data.nikkei.fillna(method='bfill')\n",
    "\n",
    "data.isna().sum()"
   ]
  },
  {
   "cell_type": "markdown",
   "metadata": {},
   "source": [
    "# Calculating Retruns for the Prices\n",
    "The returns for a index can be calculated using the following formula - <br>\n",
    "$Returns(t) = Prices(t) - Prices(t-1)$ <br>\n",
    "Here $t$ is the time period in question. <br><br>\n",
    "\n",
    "On calculating the returns for each index, the data is concatenated to the dataframe itself."
   ]
  },
  {
   "cell_type": "code",
   "execution_count": 8,
   "metadata": {},
   "outputs": [],
   "source": [
    "data['spx_ret'] = data.spx.pct_change(1).mul(100)\n",
    "data['dax_ret'] = data.dax.pct_change(1).mul(100)\n",
    "data['ftse_ret'] = data.ftse.pct_change(1).mul(100)\n",
    "data['nikkei_ret'] = data.nikkei.pct_change(1).mul(100)"
   ]
  },
  {
   "cell_type": "markdown",
   "metadata": {},
   "source": [
    "# Calculating Normalized Prices\n",
    "The Normalized prices of an index can be used to accurately compare the growth and fall of each market. <br>\n",
    "It can be calculated using the following formula - <br>\n",
    "$Normalized Prices(t) = (Prices(t)/Bench Mark) * 100$ <br>\n",
    "Here $t$ is the time period in question. <br>\n",
    "And, $Bench Mark$ is the baseline used for each marke index. For this analysis the first value of each index is chosen <br><br>\n",
    "\n",
    "On calculating the noralized prices, the data is concatenated to the dataframe itself."
   ]
  },
  {
   "cell_type": "code",
   "execution_count": 9,
   "metadata": {},
   "outputs": [],
   "source": [
    "spx_benchmark = data.spx[0]\n",
    "data['spx_norm'] = data.spx.div(spx_benchmark).mul(100)\n",
    "\n",
    "dax_benchmark = data.dax[0]\n",
    "data['dax_norm'] = data.dax.div(dax_benchmark).mul(100)\n",
    "\n",
    "ftse_benchmark = data.ftse[0]\n",
    "data['ftse_norm'] = data.ftse.div(ftse_benchmark).mul(100)\n",
    "\n",
    "nikkei_benchmark = data.nikkei[0]\n",
    "data['nikkei_norm'] = data.nikkei.div(nikkei_benchmark).mul(100)"
   ]
  },
  {
   "cell_type": "markdown",
   "metadata": {},
   "source": [
    "# Calculating Normalized Returns\n",
    "$Normalized Retruns(t) = (Retruns(t)/Bench Mark) * 100$ <br>\n",
    "Here $t$ is the time period in question. <br>\n",
    "And, $Bench Mark$ is the baseline used for each marke index. For this analysis the first value of each index is chosen.<br><br>\n",
    "\n",
    "On calculating the noralized returns, the data is concatenated to the dataframe itself."
   ]
  },
  {
   "cell_type": "code",
   "execution_count": 10,
   "metadata": {},
   "outputs": [],
   "source": [
    "data['spx_ret_norm'] = data.spx_ret.div(data.spx_ret[1])*100\n",
    "data['ftse_ret_norm'] = data.ftse_ret.div(data.ftse_ret[1])*100\n",
    "data['dax_ret_norm'] = data.dax_ret.div(data.dax_ret[1])*100\n",
    "data['nikkei_ret_norm'] = data.nikkei_ret.div(data.nikkei_ret[1])*100"
   ]
  },
  {
   "cell_type": "markdown",
   "metadata": {},
   "source": [
    "# Calculating Squared Returns/Volatility\n",
    "$Squared Retruns(t) = (Retruns(t))^2$<br>\n",
    "Here $t$ is the time period in question. <br>\n",
    "\n",
    "On calculating the noralized returns, the data is concatenated to the dataframe itself."
   ]
  },
  {
   "cell_type": "code",
   "execution_count": 11,
   "metadata": {},
   "outputs": [],
   "source": [
    "data['spx_vol'] = data.spx_ret.mul(data.spx_ret)\n",
    "data['dax_vol'] = data.dax_ret.mul(data.dax_ret)\n",
    "data['ftse_vol'] = data.ftse_ret.mul(data.ftse_ret)\n",
    "data['nikkei_vol'] = data.nikkei_ret.mul(data.nikkei_ret)"
   ]
  },
  {
   "cell_type": "markdown",
   "metadata": {},
   "source": [
    "# Splitting Dataset\n",
    "80% of the data is seperated for training and 20% for testing."
   ]
  },
  {
   "cell_type": "code",
   "execution_count": 12,
   "metadata": {},
   "outputs": [],
   "source": [
    "size = int(len(data)*0.8)\n",
    "df, df_test = data.iloc[:size], data.iloc[size:]"
   ]
  },
  {
   "cell_type": "markdown",
   "metadata": {},
   "source": [
    "# Export DataFrame\n",
    "The preprocessed data is exported as a **.csv** file."
   ]
  },
  {
   "cell_type": "code",
   "execution_count": 13,
   "metadata": {},
   "outputs": [],
   "source": [
    "data = data.reset_index()\n",
    "df = df.reset_index()\n",
    "df_test = df_test.reset_index()"
   ]
  },
  {
   "cell_type": "code",
   "execution_count": 14,
   "metadata": {},
   "outputs": [],
   "source": [
    "data.to_csv('web_scrapped_data.csv')\n",
    "df.to_csv('train.csv')\n",
    "df_test.to_csv('test.csv')"
   ]
  }
 ],
 "metadata": {
  "kernelspec": {
   "display_name": "Python 3",
   "language": "python",
   "name": "python3"
  },
  "language_info": {
   "codemirror_mode": {
    "name": "ipython",
    "version": 3
   },
   "file_extension": ".py",
   "mimetype": "text/x-python",
   "name": "python",
   "nbconvert_exporter": "python",
   "pygments_lexer": "ipython3",
   "version": "3.7.3"
  }
 },
 "nbformat": 4,
 "nbformat_minor": 4
}
